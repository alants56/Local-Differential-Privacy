{
 "cells": [
  {
   "cell_type": "markdown",
   "metadata": {
    "nbpresent": {
     "id": "8d930e19-27cb-4e4f-a5fb-065a227ef6b5"
    }
   },
   "source": [
    "## Collecting and Analyzing Multidimensional Data with Local Differential Privacy"
   ]
  },
  {
   "cell_type": "markdown",
   "metadata": {
    "nbpresent": {
     "id": "e7a4cc8e-47b6-4a54-9526-30a325b55c3b"
    }
   },
   "source": [
    "## 一、背景简介"
   ]
  },
  {
   "cell_type": "markdown",
   "metadata": {
    "nbpresent": {
     "id": "e7145752-4a6c-405a-90dd-8b1fc85e7965"
    }
   },
   "source": [
    "### 1.问题描述"
   ]
  },
  {
   "cell_type": "markdown",
   "metadata": {
    "nbpresent": {
     "id": "db4244bb-d059-4e60-9f93-a95e097faa50"
    }
   },
   "source": [
    "首先考虑一维属性的情况，对于$n$个用户，每个用户对应于一个值$t_{i}(1\\leq i \\leq n) \\in [-1, 1]$，期望通过基于LDP的方式估计所有用户有关$t_{i}$的均值。"
   ]
  },
  {
   "cell_type": "markdown",
   "metadata": {
    "nbpresent": {
     "id": "5bcf1a82-4122-4edd-a394-33d0ab034020"
    }
   },
   "source": [
    "### 2.LDP定义"
   ]
  },
  {
   "cell_type": "markdown",
   "metadata": {
    "nbpresent": {
     "id": "c72621cf-b6cb-4f8e-9f3d-712a65fe6f7e"
    }
   },
   "source": [
    "<img src=\"images/LDP_define.png\" height=\"400\" width=\"400\" style=\"float:left\" >"
   ]
  },
  {
   "cell_type": "markdown",
   "metadata": {
    "nbpresent": {
     "id": "19bf147e-73de-4716-91ab-e43045c4a03a"
    }
   },
   "source": [
    "## 二、目前存在的解决方式"
   ]
  },
  {
   "cell_type": "markdown",
   "metadata": {
    "nbpresent": {
     "id": "1e665831-7bad-45eb-a45f-131b4084df4e"
    }
   },
   "source": [
    "### 1.Laplace 机制"
   ]
  },
  {
   "cell_type": "markdown",
   "metadata": {
    "nbpresent": {
     "id": "5d20d38d-f271-4d5d-b949-92f77c215bbc"
    }
   },
   "source": [
    "扰动方式：  $t_{i}^{*} = t_{i} + Lap(\\frac{2}{\\epsilon})$ 。其中$Lap(\\lambda)$为拉普拉斯噪声，概率密度函数为：$f(x)=\\frac{1}{2\\lambda} exp (-\\frac{|x|}{\\lambda})$。"
   ]
  },
  {
   "cell_type": "markdown",
   "metadata": {
    "nbpresent": {
     "id": "9057d6c4-1d20-47cc-b716-89a0a63f7b88"
    }
   },
   "source": [
    "由于噪声的均值为0，因此$E[t_{i}^{*}] = t_{i}$，即最终的统计结果为无偏估计。"
   ]
  },
  {
   "cell_type": "markdown",
   "metadata": {
    "nbpresent": {
     "id": "682706a2-1fae-48bd-a575-4ff6fc9c786f"
    }
   },
   "source": [
    "方差为：$Var[t_{i}^{*}] = \\frac{8}{\\epsilon ^{2}}$"
   ]
  },
  {
   "cell_type": "markdown",
   "metadata": {
    "nbpresent": {
     "id": "84717de3-cb56-452f-a489-662c4ffddf58"
    }
   },
   "source": [
    "### 2.Duchi的方案"
   ]
  },
  {
   "cell_type": "markdown",
   "metadata": {
    "nbpresent": {
     "id": "15e96db2-8eb9-4611-9671-b9c74d14e86e"
    }
   },
   "source": [
    "2.1 扰动方式"
   ]
  },
  {
   "cell_type": "markdown",
   "metadata": {
    "nbpresent": {
     "id": "8ce89354-bb5f-41a9-ab61-f6fff15b156c"
    }
   },
   "source": [
    "<img src=\"images/Duchi.png\" height=\"400\" width=\"400\" style=\"float:left\" >"
   ]
  },
  {
   "cell_type": "markdown",
   "metadata": {
    "nbpresent": {
     "id": "d481fa38-74ad-47e8-b3c6-9b0240cd9ff7"
    }
   },
   "source": [
    "2.2 满足$\\epsilon-$LDP"
   ]
  },
  {
   "cell_type": "markdown",
   "metadata": {
    "nbpresent": {
     "id": "173e6f5e-1f7d-4f80-8845-ea0ac7a6a191"
    }
   },
   "source": [
    "$$\\frac{Pr[f(t_{i})=t_{i}^{*}]}{Pr[f(t_{i}^{'})=t_{i}^{*}]}=\\frac{(e^{\\epsilon} - 1)t_{i} + (e^{\\epsilon} + 1)}{(e^{\\epsilon} - 1)t_{i}^{'} + (e^{\\epsilon} + 1)} \\leq \\frac{(e^{\\epsilon} - 1)*1 + (e^{\\epsilon} + 1)}{(e^{\\epsilon} - 1)*(-1) + (e^{\\epsilon} + 1)}=e^{\\epsilon}$$"
   ]
  },
  {
   "cell_type": "markdown",
   "metadata": {
    "nbpresent": {
     "id": "ca2ea03f-0336-4878-8b6f-d48a003d8638"
    }
   },
   "source": [
    "2.3 无偏估计"
   ]
  },
  {
   "cell_type": "markdown",
   "metadata": {
    "nbpresent": {
     "id": "d5b2907a-bd13-48ff-82f9-bef8c135ce01"
    }
   },
   "source": [
    "$$E[t_{i}^{*}]=(\\frac{e^{\\epsilon}-1}{2e^{\\epsilon}+2}t_{i} + \\frac{1}{2})(\\frac{e^{\\epsilon}+1}{e^{\\epsilon}-1}) + (1 - \\frac{e^{\\epsilon}-1}{2e^{\\epsilon}+2}t_{i} - \\frac{1}{2})(- \\frac{e^{\\epsilon}+1}{e^{\\epsilon}-1})=t_{i} $$"
   ]
  },
  {
   "cell_type": "markdown",
   "metadata": {
    "nbpresent": {
     "id": "7775ea86-1144-4ed9-b47e-590d3e1ae555"
    }
   },
   "source": [
    "2.4 方差"
   ]
  },
  {
   "cell_type": "markdown",
   "metadata": {
    "nbpresent": {
     "id": "c99af552-494b-4886-a9c1-4fdd72677eec"
    }
   },
   "source": [
    "$$Var[t_{i}^{*}]=E[(t_{i}^{*})^{2}]- E[t_{i}^{*}]^{2}=(\\frac{e^{\\epsilon}-1}{2e^{\\epsilon}+2}t_{i} + \\frac{1}{2})(\\frac{e^{\\epsilon}+1}{e^{\\epsilon}-1})^{2} + (1 - \\frac{e^{\\epsilon}-1}{2e^{\\epsilon}+2}t_{i} - \\frac{1}{2})(- \\frac{e^{\\epsilon}+1}{e^{\\epsilon}-1})^{2} - t_{i}^{2}=(\\frac{e^{\\epsilon}+1}{e^{\\epsilon}-1})^{2} - t_{i}^{2} \\leq (\\frac{e^{\\epsilon}+1}{e^{\\epsilon}-1})^{2}$$"
   ]
  },
  {
   "cell_type": "markdown",
   "metadata": {
    "nbpresent": {
     "id": "86061cba-3cdd-405e-8eb7-ffc6cfd8a5be"
    }
   },
   "source": [
    "### 3.存在的问题"
   ]
  },
  {
   "cell_type": "code",
   "execution_count": 1,
   "metadata": {
    "nbpresent": {
     "id": "b30582fc-5d1c-4d68-8e27-23d5087f3f07"
    },
    "scrolled": false
   },
   "outputs": [
    {
     "data": {
      "text/plain": [
       "<matplotlib.legend.Legend at 0x23ce019f390>"
      ]
     },
     "execution_count": 1,
     "metadata": {},
     "output_type": "execute_result"
    },
    {
     "data": {
      "image/png": "[encoded data removed]",
      "text/plain": [
       "<Figure size 720x432 with 1 Axes>"
      ]
     },
     "metadata": {},
     "output_type": "display_data"
    }
   ],
   "source": [
    "import numpy as np\n",
    "import pandas as pd\n",
    "import warnings\n",
    "import seaborn as sns\n",
    "import matplotlib.pyplot as plt\n",
    "\n",
    "\n",
    "# 忽略一些warning\n",
    "warnings.filterwarnings('ignore')\n",
    "%matplotlib inline\n",
    "\n",
    "def var_Lap(epsilon):\n",
    "    return 8/(epsilon**2)\n",
    "\n",
    "def var_Duchi(epsilon) :\n",
    "    return ((np.e ** epsilon +1)/(np.e ** epsilon -1))**2\n",
    "\n",
    "x = np.linspace(1,8,100)\n",
    "sns.set_style('darkgrid')\n",
    "plt.figure(1, figsize=(10,6))\n",
    "plt.plot(x,[var_Lap(i) for i in x],c='blue', label=\"Laplace Mechanism\")\n",
    "plt.plot(x,[var_Duchi(i) for i in x],c='red', label=\"Duchi et al.'s solution\")\n",
    "plt.ylabel('worst-case variance')\n",
    "plt.xlabel('privacy budget ϵ')\n",
    "plt.legend()"
   ]
  },
  {
   "cell_type": "markdown",
   "metadata": {
    "nbpresent": {
     "id": "11cd9162-a598-4876-9f4b-64426b28f2ce"
    }
   },
   "source": [
    "当$\\epsilon$较小时，Duchi的方式有较小的方差；但是当$\\epsilon$较大时，Duchi方式的方差不会小于1（由于$\\frac{e^{\\epsilon}+1}{e^{\\epsilon}-1} >  1$），而此时Laplace机制有较小的方差。"
   ]
  },
  {
   "cell_type": "markdown",
   "metadata": {
    "nbpresent": {
     "id": "7475fea2-ccd6-45f8-a357-a677e98315bd"
    }
   },
   "source": [
    "那么如何设计一种方式，它可以结合Laplace机制和Duchi方式的优势，使其在任意的$\\epsilon$下都具有较小的方差。"
   ]
  },
  {
   "cell_type": "markdown",
   "metadata": {
    "nbpresent": {
     "id": "7ffdaeb3-c917-4c8c-8262-c92c5382e187"
    }
   },
   "source": [
    "## 三、论文中的解决方式"
   ]
  },
  {
   "cell_type": "markdown",
   "metadata": {
    "nbpresent": {
     "id": "e31a5585-e7dd-4ef5-9118-40c9a5ca5b32"
    }
   },
   "source": [
    "### 1. Piecewise Mechanism"
   ]
  },
  {
   "cell_type": "markdown",
   "metadata": {
    "nbpresent": {
     "id": "daa13fd6-b5d6-4a44-8cbb-f911a1cf9601"
    }
   },
   "source": [
    "1.1 扰动方式"
   ]
  },
  {
   "cell_type": "markdown",
   "metadata": {
    "nbpresent": {
     "id": "1977a865-99b2-4435-bf90-8a6aab15e60d"
    }
   },
   "source": [
    "<img src=\"images/PiecewiseMechanism.png\" height=\"400\" width=\"400\" style=\"float:left\" >"
   ]
  },
  {
   "cell_type": "markdown",
   "metadata": {
    "nbpresent": {
     "id": "9b828ea8-588e-4d9a-9c96-74ff2f7e10bc"
    }
   },
   "source": [
    "则扰动的概率密度函数为：\n",
    "$ pdf(t_{i}^{*}=x | t_{i})=\\begin{cases}\n",
    "p,\\quad if \\quad x \\in [l(t_{i}), r(t_{i})], \\\\\n",
    "\\frac{p}{e^{\\epsilon}}, \\quad if \\quad x \\in [-C, l(t_{i})] \\cup [r(t_{i}),C].\n",
    "\\end{cases}\n",
    "$"
   ]
  },
  {
   "cell_type": "markdown",
   "metadata": {
    "nbpresent": {
     "id": "767c76a1-ec46-4bd1-ac6e-4ce2c7480f63"
    }
   },
   "source": [
    "$其中：C=\\frac{e^{\\epsilon /2} + 1}{e^{\\epsilon /2} - 1}，p=\\frac{e^{\\epsilon}-e^{\\epsilon /2}}{2e^{\\epsilon /2} + 2}，l(t_{i})=\\frac{C+1}{2}t_{i}-\\frac{C-1}{2}，r(t_{i})=l(t_{i})+C-1=\\frac{C+1}{2}t_{i}+\\frac{C-1}{2}$"
   ]
  },
  {
   "cell_type": "markdown",
   "metadata": {
    "nbpresent": {
     "id": "f1e6cfc3-89ad-4fc4-ac4c-958b6db3cbd3"
    }
   },
   "source": [
    "1.2 满足$\\epsilon-$LDP"
   ]
  },
  {
   "cell_type": "markdown",
   "metadata": {
    "nbpresent": {
     "id": "753046c0-85a9-464a-a397-e9590376b314"
    }
   },
   "source": [
    "$$\\frac{Pr[f(t_{i})=t_{i}^{*}]}{Pr[f(t_{i}^{'})=t_{i}^{*}]}  = \\frac{pdf(t_{i}^{*}=x | t_{i})} {pdf(t_{i}^{*}=x | t_{i}^{'})} \\leq \\frac{p}{p/e^{\\epsilon}}=e^{\\epsilon}$$"
   ]
  },
  {
   "cell_type": "markdown",
   "metadata": {
    "nbpresent": {
     "id": "1a3b9101-ca40-4e06-b85a-7ba2e0007b8a"
    }
   },
   "source": [
    "1.3 无偏估计"
   ]
  },
  {
   "cell_type": "markdown",
   "metadata": {
    "nbpresent": {
     "id": "09efe8ea-20a0-48f5-87e7-2526fa4595f4"
    }
   },
   "source": [
    "$E[t_{i}^{*}] = \\int_{-C}^{l(t_{i})} \\frac{px}{e^{\\epsilon}}dx  + \\int_{C}^{r(t_{i})} \\frac{px}{e^{\\epsilon}}dx + \\int_{r(t_{i})}^{l(t_{i})} pxdx=\\frac{p}{2 e ^{\\epsilon}}[l^{2}(t_{i}) -r^{2}(t_{i})] + \\frac{p}{2}[r^{2}(t_{i}) -l^{2}(t_{i})]=\\frac{p}{2}(1-\\frac{1}{e^{\\epsilon}})(C-1)(C+1)t_{i}=t_{i}$"
   ]
  },
  {
   "cell_type": "markdown",
   "metadata": {
    "nbpresent": {
     "id": "bb4dc116-e44d-48a4-bfdd-9e96aaccca48"
    }
   },
   "source": [
    "1.4 方差"
   ]
  },
  {
   "cell_type": "markdown",
   "metadata": {
    "nbpresent": {
     "id": "7bf63c87-012c-4c60-8b2e-0d7991f39866"
    }
   },
   "source": [
    "$Var[t_{i}^{*}] = E[(t_{i}^{*})^2] - E[t_{i}^{*}]^{2} = \\int_{-C}^{l(t_{i})} \\frac{px^{2}}{e^{\\epsilon}}dx  + \\int_{C}^{r(t_{i})} \\frac{px^{2}}{e^{\\epsilon}}dx + \\int_{r(t_{i})}^{l(t_{i})} px^{2}dx - t_{i}^{2}=\\frac{t_{i}^{2}}{e^{\\epsilon /2} - 1}+\\frac{e^{\\epsilon /2} + 3}{3(e^{\\epsilon /2} - 1)^2} \\leq \\frac{1}{e^{\\epsilon /2} - 1}+\\frac{e^{\\epsilon /2} + 3}{3(e^{\\epsilon /2} - 1)^2} =  \\frac{4e^{\\epsilon /2}}{3(e^{\\epsilon /2} - 1)^2}$"
   ]
  },
  {
   "cell_type": "code",
   "execution_count": 3,
   "metadata": {
    "nbpresent": {
     "id": "cb508c01-819e-42f0-8492-b98043f28b39"
    },
    "scrolled": false
   },
   "outputs": [
    {
     "data": {
      "text/plain": [
       "<matplotlib.legend.Legend at 0x23ce22aaf28>"
      ]
     },
     "execution_count": 3,
     "metadata": {},
     "output_type": "execute_result"
    },
    {
     "data": {
      "image/png": "[encoded data removed]",
      "text/plain": [
       "<Figure size 720x432 with 1 Axes>"
      ]
     },
     "metadata": {},
     "output_type": "display_data"
    }
   ],
   "source": [
    "def var_Piecewise(epsilon) :\n",
    "    return ((4* (np.e ** (epsilon/2)))/(3*(((np.e ** (epsilon/2)) - 1))**2))\n",
    "\n",
    "x = np.linspace(1,8,100)\n",
    "sns.set_style('darkgrid')\n",
    "plt.figure(1, figsize=(10,6))\n",
    "plt.plot(x,[var_Lap(i) for i in x],c='blue', label=\"Laplace Mechanism\")\n",
    "plt.plot(x,[var_Duchi(i) for i in x],c='red', label=\"Duchi et al.'s solution\")\n",
    "plt.plot(x,[var_Piecewise(i) for i in x],c='green', label=\"Piecewise Mechanism\")\n",
    "plt.ylabel('worst-case variance')\n",
    "plt.xlabel('privacy budget ϵ')\n",
    "plt.legend()"
   ]
  },
  {
   "cell_type": "markdown",
   "metadata": {
    "nbpresent": {
     "id": "0ae661b6-2fde-4d34-96df-576477868812"
    }
   },
   "source": [
    "### 2.Hybrid Mechanism"
   ]
  },
  {
   "cell_type": "markdown",
   "metadata": {
    "nbpresent": {
     "id": "80472dbb-940a-411a-9dc0-9d2554b54383"
    }
   },
   "source": [
    "2.1 扰动方式"
   ]
  },
  {
   "cell_type": "markdown",
   "metadata": {
    "nbpresent": {
     "id": "2ca48cc8-5fa1-4246-bff3-ec4c347bb005"
    }
   },
   "source": [
    "<img src=\"images/HybridMechanism.png\" height=\"400\" width=\"400\" style=\"float:left\" >"
   ]
  },
  {
   "cell_type": "markdown",
   "metadata": {
    "nbpresent": {
     "id": "abb18ae3-e5ca-4d0a-b5bb-c0347bc78aee"
    }
   },
   "source": [
    "2.2 方差"
   ]
  },
  {
   "cell_type": "markdown",
   "metadata": {
    "nbpresent": {
     "id": "a761116c-636d-4333-a11a-921a8a2043e2"
    }
   },
   "source": [
    "<img src=\"images/Hvar1.png\" height=\"400\" width=\"400\" style=\"float:left\" >"
   ]
  },
  {
   "cell_type": "markdown",
   "metadata": {
    "nbpresent": {
     "id": "4b3f4df5-8b0c-416a-ac1e-01b91669f1b4"
    }
   },
   "source": [
    "<img src=\"images/Hvar2.png\" height=\"400\" width=\"400\" style=\"float:left\" >"
   ]
  },
  {
   "cell_type": "markdown",
   "metadata": {
    "nbpresent": {
     "id": "59c9903b-307f-4c80-9282-292be2d9b373"
    }
   },
   "source": [
    "由于：\n",
    "\n",
    "<img src=\"images/Hvar3.png\" height=\"400\" width=\"400\" style=\"float:left\" >"
   ]
  },
  {
   "cell_type": "markdown",
   "metadata": {
    "nbpresent": {
     "id": "1b9df97a-f724-4aeb-bde9-071184a87307"
    }
   },
   "source": [
    "其中：\n",
    "\n",
    "<img src=\"images/Hvar4.png\" height=\"400\" width=\"400\" style=\"float:left\" >"
   ]
  },
  {
   "cell_type": "markdown",
   "metadata": {
    "nbpresent": {
     "id": "20dc06fe-10bf-42fc-8d9f-d3e990204eff"
    }
   },
   "source": [
    "证：\n",
    "\n",
    "令$t=e^{\\epsilon /2}$，则$原式=\\frac{t+3}{3(t-1)^{2}} - (\\frac{t^{2}+1}{t^{2}-1})^{2}=\\frac{(t+3)(t+1)^{2} - 3(t^{2}+1)^{2}}{3(t-1)^{2}(t+1)^{2}}=\\frac{t}{3(t-1)^{2}(t+1)^{2}} (-3t^{3}+t^2-t+7)$"
   ]
  },
  {
   "cell_type": "markdown",
   "metadata": {
    "nbpresent": {
     "id": "1c999bfd-906d-4f81-9b0b-af5c9e0d0257"
    }
   },
   "source": [
    "因此，HM的最差情况下的噪声方差为：\n",
    "\n",
    "<img src=\"images/Hvar5.png\" height=\"400\" width=\"400\" style=\"float:left\" >"
   ]
  },
  {
   "cell_type": "markdown",
   "metadata": {
    "nbpresent": {
     "id": "9c46a2d9-ec1d-4ccd-852a-3072944f3e1c"
    }
   },
   "source": [
    "此时，$\\alpha$的范围为：\n",
    "\n",
    "<img src=\"images/Hvar6.png\" height=\"200\" width=\"200\" style=\"float:left\" >"
   ]
  },
  {
   "cell_type": "code",
   "execution_count": 4,
   "metadata": {
    "nbpresent": {
     "id": "922f76ea-2b68-4eaa-b559-c8e6883feaf2"
    },
    "scrolled": false
   },
   "outputs": [
    {
     "data": {
      "text/plain": [
       "[<matplotlib.lines.Line2D at 0x23ce22f1048>]"
      ]
     },
     "execution_count": 4,
     "metadata": {},
     "output_type": "execute_result"
    },
    {
     "data": {
      "image/png": "[encoded data removed]",
      "text/plain": [
       "<Figure size 576x432 with 1 Axes>"
      ]
     },
     "metadata": {},
     "output_type": "display_data"
    }
   ],
   "source": [
    "x = np.linspace(0,1,100)\n",
    "def f(x) :\n",
    "    t = np.e ** (x/2)\n",
    "    return   -3*(t**3) + (t**2) -t +7\n",
    "sns.set_style('darkgrid')\n",
    "plt.figure(1, figsize=(8,6))\n",
    "plt.plot(x,[f(i) for i in x],c='blue')"
   ]
  },
  {
   "cell_type": "code",
   "execution_count": 6,
   "metadata": {
    "nbpresent": {
     "id": "aeb79006-9e33-4496-84b3-bfc584b40643"
    },
    "scrolled": false
   },
   "outputs": [
    {
     "data": {
      "text/plain": [
       "<matplotlib.legend.Legend at 0x23ce23b6dd8>"
      ]
     },
     "execution_count": 6,
     "metadata": {},
     "output_type": "execute_result"
    },
    {
     "data": {
      "image/png": "[encoded data removed]",
      "text/plain": [
       "<Figure size 720x432 with 1 Axes>"
      ]
     },
     "metadata": {},
     "output_type": "display_data"
    }
   ],
   "source": [
    "def var_Hybrid(epsilon) :\n",
    "    return (((np.e **(epsilon/2))+3)/(3*(np.e **(epsilon/2)) * ((np.e ** (epsilon/2))-1))) + ((((np.e ** epsilon)+1)**2)/((np.e **(epsilon/2))* (((np.e ** epsilon)-1)**2)))\n",
    "\n",
    "x = np.linspace(1,8,100)\n",
    "sns.set_style('darkgrid')\n",
    "plt.figure(1, figsize=(10,6))\n",
    "plt.plot(x,[var_Lap(i) for i in x],c='blue', label=\"Laplace Mechanism\")\n",
    "plt.plot(x,[var_Duchi(i) for i in x],c='red', label=\"Duchi et al.'s solution\")\n",
    "plt.plot(x,[var_Piecewise(i) for i in x],c='green', label=\"Piecewise Mechanism\")\n",
    "plt.plot(x,[var_Hybrid(i) for i in x],c='black', label=\"Hybrid Mechanism\")\n",
    "plt.ylabel('worst-case variance')\n",
    "plt.xlabel('privacy budget ϵ')\n",
    "plt.legend()"
   ]
  },
  {
   "cell_type": "markdown",
   "metadata": {
    "nbpresent": {
     "id": "34eb70e4-8da9-42f9-8702-5a3e90c98fe4"
    }
   },
   "source": [
    "### 四、MULTIPLE ATTRIBUTES"
   ]
  },
  {
   "cell_type": "markdown",
   "metadata": {
    "nbpresent": {
     "id": "41430cf5-fd5a-4ff9-90f2-9668ed7281a5"
    }
   },
   "source": [
    "### 1 Duchi"
   ]
  },
  {
   "cell_type": "markdown",
   "metadata": {
    "nbpresent": {
     "id": "a8539c54-a991-4d9f-bb51-145a66b81396"
    }
   },
   "source": [
    "#### 1.1 扰动方式"
   ]
  },
  {
   "cell_type": "markdown",
   "metadata": {
    "nbpresent": {
     "id": "ba447ead-0d96-49f9-9564-e514c4fa021f"
    }
   },
   "source": [
    "<img src=\"images/Duchi_MA.png\" height=\"400\" width=\"400\" style=\"float:left\" >"
   ]
  },
  {
   "cell_type": "markdown",
   "metadata": {
    "nbpresent": {
     "id": "31fe6a1f-7add-4a2f-b27f-ea5e7b33032b"
    }
   },
   "source": [
    "#### 1.2 满足$\\epsilon-$LDP"
   ]
  },
  {
   "cell_type": "markdown",
   "metadata": {
    "nbpresent": {
     "id": "1965c818-819c-4364-ade1-c26bcd3f29a3"
    }
   },
   "source": [
    "$$\\frac{Pr[f(t_{i})=t^{*}]}{Pr[f(t_{i}^{'})=t^{*}]} \\leq \\frac{\\frac{e^{\\epsilon}}{e^{\\epsilon}+1}}{1-\\frac{e^{\\epsilon}}{e^{\\epsilon}+1}} =e^{\\epsilon}$$"
   ]
  },
  {
   "cell_type": "markdown",
   "metadata": {
    "nbpresent": {
     "id": "a81323a9-74c9-4b60-82ad-4d3d0f0a9a95"
    }
   },
   "source": [
    "#### 1.3 无偏估计"
   ]
  },
  {
   "cell_type": "markdown",
   "metadata": {
    "nbpresent": {
     "id": "99c9e209-e263-4ebd-ba71-249480018b05"
    }
   },
   "source": [
    "$E[T] = E[\\frac{e^{\\epsilon}}{e^{\\epsilon}+1} * T^{+} + \\frac{1}{e^{\\epsilon}+1} * T^{-}]=E[B]=E[v]=E[(\\frac{1}{2} + \\frac{1}{2}t_{i}[A_{j}])*1 + (\\frac{1}{2} - \\frac{1}{2}t_{i}[A_{j}])*(-1)] = E[t_{i}[A_{j}]]$"
   ]
  },
  {
   "cell_type": "markdown",
   "metadata": {
    "nbpresent": {
     "id": "38e8e6bc-fc2d-4bf9-9cce-a2bcee2efc08"
    }
   },
   "source": [
    "### 2. PM or HM"
   ]
  },
  {
   "cell_type": "markdown",
   "metadata": {
    "nbpresent": {
     "id": "364bac24-986a-4f0f-a00f-e2c6d38f0d14"
    }
   },
   "source": [
    "Duchi 对于多维属性处理的方式一方面过于复杂，另外一方面无法处理包含数值属性和类别属性的情况。"
   ]
  },
  {
   "cell_type": "markdown",
   "metadata": {
    "nbpresent": {
     "id": "8bb690f8-760f-4e5c-8d0a-77b27c4624da"
    }
   },
   "source": [
    "#### 2.1 扰动方式"
   ]
  },
  {
   "cell_type": "markdown",
   "metadata": {
    "nbpresent": {
     "id": "3954a753-123e-4563-9ed5-4e511f437204"
    }
   },
   "source": [
    "<img src=\"images/PM_HM_MA.png\" height=\"400\" width=\"400\" style=\"float:left\" >"
   ]
  },
  {
   "cell_type": "markdown",
   "metadata": {
    "nbpresent": {
     "id": "95afb479-d6da-4fdf-9cb1-ac69950301dc"
    }
   },
   "source": [
    "其中：$k=\\max \\{1, min\\{d, \\lfloor \\frac{\\epsilon}{2.5} \\rfloor \\}  \\}$"
   ]
  },
  {
   "cell_type": "markdown",
   "metadata": {
    "nbpresent": {
     "id": "87696a78-593f-4033-9949-b131cb2420ce"
    }
   },
   "source": [
    "从d维属性中随机选取k个属性的目的是将每个属性的隐私预算从$\\frac{\\epsilon}{d}$提升为$\\frac{\\epsilon}{k}$，从而节省隐私预算。"
   ]
  },
  {
   "cell_type": "markdown",
   "metadata": {},
   "source": [
    "#### 2.2 无偏估计"
   ]
  },
  {
   "cell_type": "markdown",
   "metadata": {},
   "source": [
    "$E[t_{i}^{*}[A_{j}]]=E[\\frac{d}{k}x_{i,j}] = \\frac{d}{k}E[x_{i,j}] = \\frac{d}{k} * \\frac{k}{d}E[t_{i}[A_{j}]]= E[t_{i}[A_{j}]]$"
   ]
  },
  {
   "cell_type": "markdown",
   "metadata": {
    "nbpresent": {
     "id": "df523293-48d6-452a-95d7-f76cd61ddc6c"
    }
   },
   "source": [
    "#### 2.3 方差"
   ]
  },
  {
   "cell_type": "markdown",
   "metadata": {},
   "source": [
    "<img src=\"images/M_var.png\" height=\"400\" width=\"400\" style=\"float:left\" >"
   ]
  },
  {
   "cell_type": "markdown",
   "metadata": {},
   "source": [
    "其中，使用PM时：\n",
    "\n",
    "<img src=\"images/M_var2.png\" height=\"400\" width=\"400\" style=\"float:left\" >"
   ]
  },
  {
   "cell_type": "markdown",
   "metadata": {},
   "source": [
    "使用HM时：\n",
    "\n",
    "<img src=\"images/M_var3.png\" height=\"400\" width=\"400\" style=\"float:left\" >"
   ]
  },
  {
   "cell_type": "markdown",
   "metadata": {},
   "source": [
    "因此，PM的方差为："
   ]
  },
  {
   "cell_type": "markdown",
   "metadata": {
    "nbpresent": {
     "id": "ee4e0dd5-7bb7-40a4-9fdc-62bbb796f0ba"
    }
   },
   "source": [
    "<img src=\"images/M_PMvar.png\" height=\"400\" width=\"400\" style=\"float:left\" >"
   ]
  },
  {
   "cell_type": "markdown",
   "metadata": {
    "nbpresent": {
     "id": "7fbd8705-bd04-4c9d-a973-6b348e336dc1"
    }
   },
   "source": [
    "HM的方差为：\n",
    "\n",
    "<img src=\"images/M_HMvar.png\" height=\"400\" width=\"400\" style=\"float:left\" >"
   ]
  },
  {
   "cell_type": "markdown",
   "metadata": {},
   "source": [
    "### 3. 处理数值属性与类别属性共同出现的场景"
   ]
  },
  {
   "cell_type": "markdown",
   "metadata": {},
   "source": [
    "论文中的方法是基于现有的方式（如OLH），分情况进行扰动："
   ]
  },
  {
   "cell_type": "markdown",
   "metadata": {},
   "source": [
    "<img src=\"images/numerical_categorical.png\" height=\"400\" width=\"400\" style=\"float:left\" >"
   ]
  },
  {
   "cell_type": "markdown",
   "metadata": {
    "nbpresent": {
     "id": "e42d3363-78cd-4e8b-a6e3-c908858581ab"
    }
   },
   "source": [
    "### 五、SGD with LDP"
   ]
  },
  {
   "cell_type": "markdown",
   "metadata": {
    "nbpresent": {
     "id": "8d98380f-1f26-4139-91b8-5d4e65454af0"
    }
   },
   "source": [
    "将梯度作为用户属性，使用PM或HM机制来估计梯度的均值。"
   ]
  },
  {
   "cell_type": "markdown",
   "metadata": {
    "nbpresent": {
     "id": "6bde48df-f15d-4005-821a-62265124ff6f"
    }
   },
   "source": [
    "<img src=\"images/SGD_LDP.png\" height=\"300\" width=\"300\" >"
   ]
  },
  {
   "cell_type": "markdown",
   "metadata": {},
   "source": [
    "## 问题：\n",
    "\n",
    "离散属性如何通过上述方式实现LDP？\n",
    "\n",
    "算法三：$t_{*} \\cdot v \\geq 0(or B)$ ?\n",
    "\n",
    "算法四：采样方式是否可以改进？\n",
    "\n",
    "SGD with LDP 优化"
   ]
  }
 ],
 "metadata": {
  "anaconda-cloud": {},
  "kernelspec": {
   "display_name": "Python [conda env:Anaconda3]",
   "language": "python",
   "name": "conda-env-Anaconda3-py"
  },
  "language_info": {
   "codemirror_mode": {
    "name": "ipython",
    "version": 3
   },
   "file_extension": ".py",
   "mimetype": "text/x-python",
   "name": "python",
   "nbconvert_exporter": "python",
   "pygments_lexer": "ipython3",
   "version": "3.5.6"
  }
 },
 "nbformat": 4,
 "nbformat_minor": 1
}
